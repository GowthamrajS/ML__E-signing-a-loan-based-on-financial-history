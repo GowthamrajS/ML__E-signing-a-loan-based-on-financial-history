# -*- coding: utf-8 -*-
"""
Created on Thu Mar 28 15:24:17 2019

@author: Admin
"""

import numpy as np
import pandas as pd
import matplotlib.pyplot as plt

x = pd.read_csv("Data.csv")
y = x["e_signed"].values

x.isnull().sum()
x = x.iloc[:,1:]

mon = pd.get_dummies(x.pay_schedule,drop_first= True)
x = x.drop(["e_signed","pay_schedule"],axis = 1)

x = pd.concat([x,mon],axis=1)

from sklearn.model_selection import train_test_split

x_train,x_test,y_train,y_test = train_test_split(x,y,train_size = 0.8) 


from sklearn.preprocessing import StandardScaler as ss

ss = ss()

x_train = ss.fit_transform(x_train)
x_test = ss.transform(x_test)

from sklearn.discriminant_analysis import LinearDiscriminantAnalysis as ld

ld = ld(n_components=None)

x_train = ld.fit_transform(x_train,y_train)
x_test = ld.transform(x_test)


xx = ld.explained_variance_ratio_

from sklearn.tree import DecisionTreeClassifier as df
df= df()
df.fit(x_train,y_train)

df.score(x_train,y_train)
 
y_pred = df.predict(x_test)



from sklearn.ensemble import RandomForestClassifier as rf
rf =rf(n_estimators = 50)
rf.fit(x_train,y_train)

y_pred = rf.predict(x_test)

rf.score(x_train,y_train)



from sklearn.metrics import confusion_matrix,accuracy_score

ac = accuracy_score(y_test,y_pred)

cm = cm(y_test,y_pred)




